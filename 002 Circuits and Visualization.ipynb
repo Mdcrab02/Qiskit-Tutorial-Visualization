{
 "cells": [
  {
   "cell_type": "markdown",
   "id": "0fcc2080-1128-4119-a32c-957a9d06dc92",
   "metadata": {},
   "source": [
    "# Qiskit Circuits and Visualizations\n",
    "\n",
    "Reference: https://qiskit.org/documentation/tutorials/circuits/2_plotting_data_in_qiskit.html"
   ]
  },
  {
   "cell_type": "code",
   "execution_count": 8,
   "id": "1443199f-7516-4476-baae-f9870dbfafbf",
   "metadata": {},
   "outputs": [],
   "source": [
    "# Import the needed packages and modules\n",
    "import qiskit as qs\n",
    "\n",
    "# Setting to make sure that visuals show up in the notebook while I'm working\n",
    "#%matplotlib inline"
   ]
  },
  {
   "cell_type": "code",
   "execution_count": 9,
   "id": "a3bb6208-19f5-4d4e-96dc-a11ac695f657",
   "metadata": {},
   "outputs": [
    {
     "data": {
      "image/png": "[encoded data removed]",
      "text/plain": [
       "<Figure size 146.797x144.48 with 1 Axes>"
      ]
     },
     "execution_count": 9,
     "metadata": {},
     "output_type": "execute_result"
    }
   ],
   "source": [
    "quant_reg = qs.QuantumRegister(1)\n",
    "class_reg = qs.ClassicalRegister(1)\n",
    "\n",
    "# Create the circuit\n",
    "quant_circuit = qs.QuantumCircuit(quant_reg, class_reg)\n",
    "\n",
    "# Add an X gate with .x()\n",
    "quant_circuit.x(0)\n",
    "\n",
    "# Draw the circuit with matplotlib\n",
    "quant_circuit.draw(output = 'mpl')"
   ]
  },
  {
   "cell_type": "code",
   "execution_count": null,
   "id": "8a8ebff8-f050-47d0-b1ae-841d321755fb",
   "metadata": {},
   "outputs": [],
   "source": []
  }
 ],
 "metadata": {
  "kernelspec": {
   "display_name": "Python 3",
   "language": "python",
   "name": "python3"
  },
  "language_info": {
   "codemirror_mode": {
    "name": "ipython",
    "version": 3
   },
   "file_extension": ".py",
   "mimetype": "text/x-python",
   "name": "python",
   "nbconvert_exporter": "python",
   "pygments_lexer": "ipython3",
   "version": "3.7.10"
  }
 },
 "nbformat": 4,
 "nbformat_minor": 5
}
